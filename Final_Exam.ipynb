{
  "nbformat": 4,
  "nbformat_minor": 0,
  "metadata": {
    "colab": {
      "name": "Final Exam.ipynb",
      "provenance": [],
      "authorship_tag": "ABX9TyM+HADyTliX0vPE7KognJL+",
      "include_colab_link": true
    },
    "kernelspec": {
      "name": "python3",
      "display_name": "Python 3"
    },
    "language_info": {
      "name": "python"
    }
  },
  "cells": [
    {
      "cell_type": "markdown",
      "metadata": {
        "id": "view-in-github",
        "colab_type": "text"
      },
      "source": [
        "<a href=\"https://colab.research.google.com/github/Charleeees/CPEN-21A-ECE-2-2/blob/main/Final_Exam.ipynb\" target=\"_parent\"><img src=\"https://colab.research.google.com/assets/colab-badge.svg\" alt=\"Open In Colab\"/></a>"
      ]
    },
    {
      "cell_type": "markdown",
      "source": [
        "##Final Exam"
      ],
      "metadata": {
        "id": "1-r29HYykSJ6"
      }
    },
    {
      "cell_type": "markdown",
      "source": [
        "#Problem 1\n",
        "Create a Python program that will produce an output of sum of 10 numbers less than 5 using FOR LOOP statement."
      ],
      "metadata": {
        "id": "zS3eYmlqBOXZ"
      }
    },
    {
      "cell_type": "code",
      "source": [
        "\n",
        "a =(-6,-5,-4,-3,-2,-1,1,2,3,4)\n",
        "total = 0\n",
        "for b in a:\n",
        "  total=total + b\n",
        "print(total)"
      ],
      "metadata": {
        "colab": {
          "base_uri": "https://localhost:8080/"
        },
        "id": "tCplGFXKnv9I",
        "outputId": "ab9001d5-300c-41f6-e46f-1a096faad648"
      },
      "execution_count": 12,
      "outputs": [
        {
          "output_type": "stream",
          "name": "stdout",
          "text": [
            "-11\n"
          ]
        }
      ]
    },
    {
      "cell_type": "markdown",
      "source": [
        "#Problem 2\n",
        "Create a Python program that will produce accept five numbers and determine the sum of\n",
        "first and last number among the five numbers entered using WHILE LOOP"
      ],
      "metadata": {
        "id": "kf1AZC5jBLKK"
      }
    },
    {
      "cell_type": "code",
      "source": [
        "numbers = []\n",
        "size = 5\n",
        "trace = 0\n",
        "x= 0\n",
        "\n",
        "for i in range(size):\n",
        "  numbers.append(int(input()))\n",
        "\n",
        "while trace <= (size - 1):\n",
        "  if trace == 0 or trace == 4:\n",
        "      x += numbers [trace]\n",
        "\n",
        "  trace += 1\n",
        "\n",
        "print(x)"
      ],
      "metadata": {
        "colab": {
          "base_uri": "https://localhost:8080/"
        },
        "id": "qaBigzhoAW6T",
        "outputId": "d7271a48-04b8-4ea1-ae19-da9c82f58222"
      },
      "execution_count": 3,
      "outputs": [
        {
          "output_type": "stream",
          "name": "stdout",
          "text": [
            "15\n",
            "4\n",
            "7\n",
            "6\n",
            "14\n",
            "29\n"
          ]
        }
      ]
    },
    {
      "cell_type": "markdown",
      "source": [
        "#Problem 3\n",
        "Create a Python program to calculate student grades. It accepts a numerical grade as input \n",
        "and it will display the character grade as output based on the given scale: (Use Nested-IF-Else\n",
        "statement)"
      ],
      "metadata": {
        "id": "vbY6M5lVBHdD"
      }
    },
    {
      "cell_type": "code",
      "source": [
        "\n",
        "sum=0\n",
        "average=0\n",
        "print(\"Enter grades obtained in 3 subjects:\")\n",
        "grade1=int(input(\"Mathematics\"))\n",
        "grade2=int(input(\"Filipino\"))\n",
        "grade3=int(input(\"Character Education\"))\n",
        "sum=grade1+grade2+grade3\n",
        "average=sum/3\n",
        "if average >=90:\n",
        "  print(\"Your grade is A\")\n",
        "else:\n",
        "    if average >=80 and average <90:\n",
        "      print(\"Your grade is B\")\n",
        "    else:\n",
        "        if average >=70 and average <79:\n",
        "           print(\"Your grade is C\")\n",
        "        else:\n",
        "            if average >=60 and average <69:\n",
        "               print(\"Your grade is D\")\n",
        "            else:\n",
        "              print(\"Your grade is F\")"
      ],
      "metadata": {
        "colab": {
          "base_uri": "https://localhost:8080/"
        },
        "id": "6Mn7dM0MAa-x",
        "outputId": "f0f7bb92-3de8-4e8a-dd79-75ccc2d23686"
      },
      "execution_count": 11,
      "outputs": [
        {
          "output_type": "stream",
          "name": "stdout",
          "text": [
            "Enter grades obtained in 3 subjects:\n",
            "Mathematics 92\n",
            "Filipino 87\n",
            "Character Education 94\n",
            "Your grade is A\n"
          ]
        }
      ]
    }
  ]
}