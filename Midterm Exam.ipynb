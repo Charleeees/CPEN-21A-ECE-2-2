{
  "nbformat": 4,
  "nbformat_minor": 0,
  "metadata": {
    "colab": {
      "name": "Welcome To Colaboratory",
      "provenance": [],
      "collapsed_sections": [],
      "toc_visible": true,
      "include_colab_link": true
    },
    "kernelspec": {
      "display_name": "Python 3",
      "name": "python3"
    }
  },
  "cells": [
    {
      "cell_type": "markdown",
      "metadata": {
        "id": "view-in-github",
        "colab_type": "text"
      },
      "source": [
        "<a href=\"https://colab.research.google.com/github/Charleeees/CPEN-21A-ECE-2-2/blob/main/Midterm%20Exam.ipynb\" target=\"_parent\"><img src=\"https://colab.research.google.com/assets/colab-badge.svg\" alt=\"Open In Colab\"/></a>"
      ]
    },
    {
      "cell_type": "markdown",
      "metadata": {
        "id": "N-BrzDjmz9C3"
      },
      "source": [
        "## Problem Statement 1"
      ]
    },
    {
      "cell_type": "code",
      "metadata": {
        "id": "Q0nIqsREtEAv",
        "outputId": "71447b3f-54f2-4def-cd76-5fecfca63bd5",
        "colab": {
          "base_uri": "https://localhost:8080/"
        }
      },
      "source": [
        "print (\"Problem Statment 1: Introducing myself\")"
      ],
      "execution_count": 10,
      "outputs": [
        {
          "output_type": "stream",
          "name": "stdout",
          "text": [
            "Problem Statment 1: Introducing myself\n"
          ]
        }
      ]
    },
    {
      "cell_type": "code",
      "metadata": {
        "id": "RNhkoz8xtX5D",
        "outputId": "fea09e1b-d2c7-48a3-b7a1-bcde4d612809",
        "colab": {
          "base_uri": "https://localhost:8080/"
        }
      },
      "source": [
        "Fullname= input(\"What is my name? \")\n",
        "StudentNumber= input(\"What is my student number \")\n",
        "Age= input(\"How old am I? \")\n",
        "Birthday= input(\"When is my birthday? \")\n",
        "Address= input(\"What is my address? \")\n",
        "Course= input(\"What is my course \")\n",
        "GWA= input(\"What is my GWA? \")\n",
        " \n"
      ],
      "execution_count": 12,
      "outputs": [
        {
          "name": "stdout",
          "output_type": "stream",
          "text": [
            "What is my name?  Charles Bigalbal Tuazon\n",
            "What is my student number  202011615\n",
            "How old am I?  20 years old\n",
            "When is my birthday?  July 25, 2001\n",
            "What is my address?  0003 Timalan Concepcion Naic, Cavite\n",
            "What is my course  Bachelor of Science in Electronics Communication Engineering\n",
            "What is my GWA?  My GWA last semester is 1.72\n"
          ]
        }
      ]
    },
    {
      "cell_type": "markdown",
      "metadata": {
        "id": "kaqeJy_k0IGu"
      },
      "source": [
        "## Problem Statement 2"
      ]
    },
    {
      "cell_type": "code",
      "metadata": {
        "id": "jofAkdpg1UNm",
        "outputId": "d478dfc9-9eb7-4bb4-f82e-e3ada39a560f",
        "colab": {
          "base_uri": "https://localhost:8080/"
        }
      },
      "source": [
        "n=4\n",
        "answ=\"Y\"\n",
        "print(2<n and n<6)\n",
        "print(2<n or n==6)\n",
        "print(not 2<n or n==6)\n",
        "print(not n<6)\n",
        "print(answ==\"Y\" or answ==\"y\")\n",
        "print(answ==\"Y\" and answ==\"y\")\n",
        "print(not answ==\"y\")\n",
        "print((2<n and n==5+1) or answ==\"No\")\n",
        "print((n==2 and n==7) or answ==\"Y\")\n",
        "print(n==2 and (n==7 or answ==\"Y\"))"
      ],
      "execution_count": 24,
      "outputs": [
        {
          "output_type": "stream",
          "name": "stdout",
          "text": [
            "True\n",
            "True\n",
            "False\n",
            "False\n",
            "True\n",
            "False\n",
            "True\n",
            "False\n",
            "True\n",
            "False\n"
          ]
        }
      ]
    },
    {
      "cell_type": "markdown",
      "metadata": {
        "id": "zWzm_N4E0MC_"
      },
      "source": [
        "## Problem Statement 3"
      ]
    },
    {
      "cell_type": "code",
      "metadata": {
        "id": "pmf95rHayG2d",
        "outputId": "56b4f989-efb4-4680-ac9b-0744096bfcc1",
        "colab": {
          "base_uri": "https://localhost:8080/"
        }
      },
      "source": [
        "x= 2\n",
        "y= -3\n",
        "w= 7\n",
        "z= -10\n",
        "\n",
        "print(x/y)\n",
        "print(w/y/x)\n",
        "print(z/y%x)\n",
        "print(x%-y*w)\n",
        "print(x%y)\n",
        "print(z%w-y/x*5+5)\n",
        "print(9-x%(2+y))\n",
        "print(z//w)\n",
        "print((2+y)**2)\n",
        "print(w/x*2)"
      ],
      "execution_count": 16,
      "outputs": [
        {
          "output_type": "stream",
          "name": "stdout",
          "text": [
            "-0.6666666666666666\n",
            "-1.1666666666666667\n",
            "1.3333333333333335\n",
            "14\n",
            "-1\n",
            "16.5\n",
            "9\n",
            "-2\n",
            "1\n",
            "7.0\n"
          ]
        }
      ]
    }
  ]
}