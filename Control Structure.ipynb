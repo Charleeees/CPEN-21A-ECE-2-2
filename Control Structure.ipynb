{
  "nbformat": 4,
  "nbformat_minor": 0,
  "metadata": {
    "colab": {
      "name": "Welcome To Colaboratory",
      "provenance": [],
      "collapsed_sections": [],
      "toc_visible": true,
      "include_colab_link": true
    },
    "kernelspec": {
      "display_name": "Python 3",
      "name": "python3"
    }
  },
  "cells": [
    {
      "cell_type": "markdown",
      "metadata": {
        "id": "view-in-github",
        "colab_type": "text"
      },
      "source": [
        "<a href=\"https://colab.research.google.com/github/Charleeees/CPEN-21A-ECE-2-2/blob/main/Control%20Structure.ipynb\" target=\"_parent\"><img src=\"https://colab.research.google.com/assets/colab-badge.svg\" alt=\"Open In Colab\"/></a>"
      ]
    },
    {
      "cell_type": "markdown",
      "metadata": {
        "id": "8s3t93rFxgJg"
      },
      "source": [
        "##If Statement"
      ]
    },
    {
      "cell_type": "code",
      "metadata": {
        "colab": {
          "base_uri": "https://localhost:8080/"
        },
        "id": "Zc7FTxH1xjwZ",
        "outputId": "c3a36352-730e-4925-91b4-6f661b4e2498"
      },
      "source": [
        "a= 12\n",
        "b= 100\n",
        "if b>a:\n",
        "  print(\"b is greater than a\")\n"
      ],
      "execution_count": 2,
      "outputs": [
        {
          "output_type": "stream",
          "name": "stdout",
          "text": [
            "b is greater than a\n"
          ]
        }
      ]
    },
    {
      "cell_type": "markdown",
      "metadata": {
        "id": "ZeGNxnVRynxj"
      },
      "source": [
        "##Elif Statement"
      ]
    },
    {
      "cell_type": "code",
      "metadata": {
        "colab": {
          "base_uri": "https://localhost:8080/"
        },
        "id": "cg-Hkibgyp5u",
        "outputId": "93910b18-7476-4a8b-f1be-e09f2d72a515"
      },
      "source": [
        "a= 12\n",
        "b= 100\n",
        "if b>a:\n",
        "  print(\"b is less than a\")\n",
        "elif b>a:\n",
        "  print(\"b is greater than a\")"
      ],
      "execution_count": 4,
      "outputs": [
        {
          "output_type": "stream",
          "name": "stdout",
          "text": [
            "b is less than a\n"
          ]
        }
      ]
    },
    {
      "cell_type": "markdown",
      "metadata": {
        "id": "Z2h7IzNLzGAA"
      },
      "source": [
        "##Else Statement"
      ]
    },
    {
      "cell_type": "code",
      "metadata": {
        "colab": {
          "base_uri": "https://localhost:8080/"
        },
        "id": "_FMMLtfozJEi",
        "outputId": "6c5b6c0b-d8db-4b87-9217-e0cc798ede6e"
      },
      "source": [
        "a= 12\n",
        "b= 12\n",
        "if b>a:\n",
        "  print(\"b is less than a\")\n",
        "elif b>a:\n",
        "  print(\"b is greater than a\")\n",
        "else:\n",
        "  print (\"a is equal to b\")"
      ],
      "execution_count": 5,
      "outputs": [
        {
          "output_type": "stream",
          "name": "stdout",
          "text": [
            "a is equal to b\n"
          ]
        }
      ]
    },
    {
      "cell_type": "markdown",
      "metadata": {
        "id": "gNDI_yuSzuvI"
      },
      "source": [
        "##Short Hand If.... Else"
      ]
    },
    {
      "cell_type": "code",
      "metadata": {
        "colab": {
          "base_uri": "https://localhost:8080/"
        },
        "id": "COHf-0_ez2kw",
        "outputId": "a9218c96-1682-4d70-efc0-71998c114915"
      },
      "source": [
        "a= 420\n",
        "b= 330\n",
        "print(\"A\")if a > b else print(\"B\")"
      ],
      "execution_count": 7,
      "outputs": [
        {
          "output_type": "stream",
          "name": "stdout",
          "text": [
            "A\n"
          ]
        }
      ]
    },
    {
      "cell_type": "markdown",
      "metadata": {
        "id": "kEGohWfd1LBu"
      },
      "source": [
        "##And Condition\n"
      ]
    },
    {
      "cell_type": "code",
      "metadata": {
        "colab": {
          "base_uri": "https://localhost:8080/"
        },
        "id": "kI0JmsPb1PLi",
        "outputId": "d746fa12-c5fc-4199-f0bc-41baaf1a1b70"
      },
      "source": [
        "a= 200\n",
        "b= 33\n",
        "c= 500\n",
        "if a > b and a < c:\n",
        "  print(\"The conditions need to be True\")"
      ],
      "execution_count": 11,
      "outputs": [
        {
          "output_type": "stream",
          "name": "stdout",
          "text": [
            "The condition need to be True\n"
          ]
        }
      ]
    },
    {
      "cell_type": "markdown",
      "metadata": {
        "id": "NOlCbPF22HI0"
      },
      "source": [
        "##Or Condition"
      ]
    },
    {
      "cell_type": "code",
      "metadata": {
        "colab": {
          "base_uri": "https://localhost:8080/"
        },
        "id": "b6ZXDoPw2IqC",
        "outputId": "76ee8791-e30e-485e-a08a-5d0b84e957b9"
      },
      "source": [
        "a= 200\n",
        "b= 33\n",
        "c= 500\n",
        "if a > b or a < b:\n",
        "   print(\"Atleast one of the conditions is True\")"
      ],
      "execution_count": 13,
      "outputs": [
        {
          "output_type": "stream",
          "name": "stdout",
          "text": [
            "Atleast one of the conditions is True\n"
          ]
        }
      ]
    },
    {
      "cell_type": "markdown",
      "metadata": {
        "id": "NKaYEbUx2xfz"
      },
      "source": [
        "##Nested If"
      ]
    },
    {
      "cell_type": "code",
      "metadata": {
        "colab": {
          "base_uri": "https://localhost:8080/"
        },
        "id": "8OO6B0SL2zTH",
        "outputId": "6f5d049e-ebaf-4cc3-8ae1-17a4878cd7f6"
      },
      "source": [
        "a= 41\n",
        "if a > 10:\n",
        "  print(\"Above 10,\")\n",
        "if a > 20:\n",
        "  print(\"and also above 20!\")\n",
        "else:\n",
        "  print(\"but not above 20.\")\n"
      ],
      "execution_count": 16,
      "outputs": [
        {
          "output_type": "stream",
          "name": "stdout",
          "text": [
            "Above 10,\n",
            "and also above 20!\n"
          ]
        }
      ]
    },
    {
      "cell_type": "markdown",
      "metadata": {
        "id": "Cu4hNZB44NKp"
      },
      "source": [
        "##Nested If.... Else"
      ]
    },
    {
      "cell_type": "code",
      "metadata": {
        "colab": {
          "base_uri": "https://localhost:8080/"
        },
        "id": "pjCT15Fd4PQ_",
        "outputId": "72a5f0a3-6875-411a-d471-52a072d5fdd9"
      },
      "source": [
        "a= 4\n",
        "\n",
        "if a > 10:\n",
        "  print(\"Above 10,\")\n",
        "  if a > 20:\n",
        "    print(\"Above 20\")\n",
        "  else:\n",
        "   print(\"but not above 20.\")\n",
        "else:\n",
        "  print(\"below 10\")"
      ],
      "execution_count": 47,
      "outputs": [
        {
          "output_type": "stream",
          "name": "stdout",
          "text": [
            "below 10\n"
          ]
        }
      ]
    },
    {
      "cell_type": "markdown",
      "metadata": {
        "id": "Xgs-8RTp5UHE"
      },
      "source": [
        "##Example 1"
      ]
    },
    {
      "cell_type": "code",
      "metadata": {
        "colab": {
          "base_uri": "https://localhost:8080/"
        },
        "id": "-C_Pd-mh5VQk",
        "outputId": "a5f3388a-8ae1-4dd6-b653-3a9fe835c9df"
      },
      "source": [
        "# The qualifying age to vote\n",
        "age= 18\n",
        "if age>=18:\n",
        "  print(\"You are qualified to vote\")\n",
        "else:\n",
        "  print(\"You are not qualified\")"
      ],
      "execution_count": 22,
      "outputs": [
        {
          "output_type": "stream",
          "name": "stdout",
          "text": [
            "You are qualified to vote\n"
          ]
        }
      ]
    },
    {
      "cell_type": "markdown",
      "metadata": {
        "id": "2J8SVU717Gjn"
      },
      "source": [
        "##Example 2"
      ]
    },
    {
      "cell_type": "code",
      "metadata": {
        "colab": {
          "base_uri": "https://localhost:8080/"
        },
        "id": "E7N0YwPE8wzP",
        "outputId": "5ee3b4bf-28eb-49b1-c358-ccf2d5a1dbaf"
      },
      "source": [
        "number= int(input(\"Enter a number\"))\n",
        "if number > 0:\n",
        "  print(\"You entered a positive number\")\n",
        "elif number ==0:\n",
        "  print(\"You entered zero 0\")\n",
        "else:\n",
        "  print(\"You entered a negative number\")"
      ],
      "execution_count": 38,
      "outputs": [
        {
          "output_type": "stream",
          "name": "stdout",
          "text": [
            "Enter a number -4\n",
            "You entered a negative number\n"
          ]
        }
      ]
    },
    {
      "cell_type": "markdown",
      "metadata": {
        "id": "qKrBiXjE-T2j"
      },
      "source": [
        "##Example 3"
      ]
    },
    {
      "cell_type": "code",
      "metadata": {
        "colab": {
          "base_uri": "https://localhost:8080/"
        },
        "id": "XfP-2dxR-VIm",
        "outputId": "89bd65fe-60e5-4441-b7dd-b2a861a51884"
      },
      "source": [
        "# Determine if grades are Passed, Remedial or Failed\n",
        "\n",
        "number= int(input(\"Grade is\"))\n",
        "if number >= 75:\n",
        "  print(\"Passed\")\n",
        "if number == 74:\n",
        "  print(\"Remedial\")\n",
        "if number < 74:\n",
        "  print(\"Failed\")\n"
      ],
      "execution_count": 61,
      "outputs": [
        {
          "output_type": "stream",
          "name": "stdout",
          "text": [
            "Grade is 75\n",
            "Passed\n"
          ]
        }
      ]
    }
  ]
}