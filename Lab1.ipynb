{
  "nbformat": 4,
  "nbformat_minor": 0,
  "metadata": {
    "colab": {
      "name": "Welcome To Colaboratory",
      "provenance": [],
      "collapsed_sections": [],
      "toc_visible": true,
      "include_colab_link": true
    },
    "kernelspec": {
      "display_name": "Python 3",
      "name": "python3"
    }
  },
  "cells": [
    {
      "cell_type": "markdown",
      "metadata": {
        "id": "view-in-github",
        "colab_type": "text"
      },
      "source": [
        "<a href=\"https://colab.research.google.com/github/Charleeees/CPEN-21A-ECE-2-2/blob/main/Lab1.ipynb\" target=\"_parent\"><img src=\"https://colab.research.google.com/assets/colab-badge.svg\" alt=\"Open In Colab\"/></a>"
      ]
    },
    {
      "cell_type": "code",
      "metadata": {
        "id": "zbv-5_OZo34M",
        "outputId": "adcc3e91-71b1-454a-9425-37a39deb7f82",
        "colab": {
          "base_uri": "https://localhost:8080/"
        }
      },
      "source": [
        "print(\"Title: Laboratory 1\")"
      ],
      "execution_count": 39,
      "outputs": [
        {
          "output_type": "stream",
          "name": "stdout",
          "text": [
            "Title: Laboratory 1\n"
          ]
        }
      ]
    },
    {
      "cell_type": "code",
      "metadata": {
        "id": "9IgYGPPLpNzj",
        "outputId": "3e309515-0b3a-442d-d2bb-7c145a1ca49f",
        "colab": {
          "base_uri": "https://localhost:8080/"
        }
      },
      "source": [
        "print(\"Welcome to Python Progamming\")"
      ],
      "execution_count": 40,
      "outputs": [
        {
          "output_type": "stream",
          "name": "stdout",
          "text": [
            "Welcome to Python Progamming\n"
          ]
        }
      ]
    },
    {
      "cell_type": "code",
      "metadata": {
        "colab": {
          "base_uri": "https://localhost:8080/"
        },
        "id": "5rBqJ8Z5g6cz",
        "outputId": "d1a379d9-c9eb-4a26-a4f0-0c200d7df97f"
      },
      "source": [
        "name = input(\"What is your name?\" )\n",
        "adress = input(\"What is your adress\" )\n",
        "age = input(\"What is your age?\" )\n",
        "print(\"I am \" + name + \" and i am\" + age + \" years old, and I live in \" + adress)\n"
      ],
      "execution_count": 38,
      "outputs": [
        {
          "output_type": "stream",
          "name": "stdout",
          "text": [
            "What is your name? Charles B. Tuazon\n",
            "What is your adress Timalan Concepcion Naic, Cavite\n",
            "What is your age? 20\n",
            "I am  Charles B. Tuazon and i am 20 years old, and I live in  Timalan Concepcion Naic, Cavite\n"
          ]
        }
      ]
    }
  ]
}